{
 "cells": [
  {
   "cell_type": "code",
   "execution_count": 0,
   "metadata": {
    "application/vnd.databricks.v1+cell": {
     "cellMetadata": {
      "byteLimit": 2048000,
      "rowLimit": 10000
     },
     "inputWidgets": {},
     "nuid": "4b6022ef-815d-457e-8bc5-cef8cc3c119d",
     "showTitle": false,
     "tableResultSettingsMap": {},
     "title": ""
    }
   },
   "outputs": [
    {
     "output_type": "stream",
     "name": "stdout",
     "output_type": "stream",
     "text": [
      "Out[10]: True"
     ]
    }
   ],
   "source": [
    "# dbutils.fs.mkdirs(\"dbfs:/FileStore/data/youtube-dataset\")\n",
    "# dbfs:/FileStore/data/youtube-dataset/channel_stats_20250102_222959.json"
   ]
  },
  {
   "cell_type": "code",
   "execution_count": 0,
   "metadata": {
    "application/vnd.databricks.v1+cell": {
     "cellMetadata": {
      "byteLimit": 2048000,
      "rowLimit": 10000
     },
     "inputWidgets": {},
     "nuid": "6f176e5e-3f21-4bda-a53d-9f9e8bb048a1",
     "showTitle": false,
     "tableResultSettingsMap": {},
     "title": ""
    }
   },
   "outputs": [],
   "source": [
    "from pyspark.sql import SparkSession\n",
    "from pyspark.sql.functions import explode, col, current_timestamp\n",
    "from pyspark.sql.types import StructType, StructField, StringType"
   ]
  },
  {
   "cell_type": "code",
   "execution_count": 0,
   "metadata": {
    "application/vnd.databricks.v1+cell": {
     "cellMetadata": {
      "byteLimit": 2048000,
      "rowLimit": 10000
     },
     "inputWidgets": {},
     "nuid": "bd08d50b-b343-4aeb-a235-031d867078ce",
     "showTitle": false,
     "tableResultSettingsMap": {},
     "title": ""
    }
   },
   "outputs": [],
   "source": [
    "spark = SparkSession.builder.appName('Channel Data').getOrCreate()\n",
    "\n",
    "# Read the JSON file\n",
    "df = spark.read.option(\"multiline\", \"true\").json(\"dbfs:/FileStore/data/youtube-dataset/channel_stats_20250102_222959.json\")\n",
    "\n",
    "df = df.select(\n",
    "    \"id\",\n",
    "    \"snippet.title\",\n",
    "    \"snippet.description\",\n",
    "    \"snippet.publishedAt\",\n",
    "    \"snippet.country\",\n",
    "    \"statistics.subscriberCount\",\n",
    "    \"statistics.viewCount\",\n",
    "    \"statistics.videoCount\"\n",
    ")\n",
    "\n",
    "from delta import *\n",
    "\n",
    "df.write.format(\"delta\").mode(\"overwrite\").saveAsTable(\"channel_data\")\n"
   ]
  },
  {
   "cell_type": "code",
   "execution_count": 0,
   "metadata": {
    "application/vnd.databricks.v1+cell": {
     "cellMetadata": {
      "byteLimit": 2048000,
      "rowLimit": 10000
     },
     "inputWidgets": {},
     "nuid": "9d367aae-bb23-459c-92e9-823f55e588b0",
     "showTitle": false,
     "tableResultSettingsMap": {},
     "title": ""
    }
   },
   "outputs": [],
   "source": [
    "df = spark.read.format(\"delta\").table(\"channel_data\")"
   ]
  }
 ],
 "metadata": {
  "application/vnd.databricks.v1+notebook": {
   "computePreferences": null,
   "dashboards": [],
   "environmentMetadata": {
    "base_environment": "",
    "client": "1"
   },
   "language": "python",
   "notebookMetadata": {
    "mostRecentlyExecutedCommandWithImplicitDF": {
     "commandId": 2150074983955563,
     "dataframes": [
      "_sqldf"
     ]
    },
    "pythonIndentUnit": 4
   },
   "notebookName": "channels-table",
   "widgets": {}
  }
 },
 "nbformat": 4,
 "nbformat_minor": 0
}
